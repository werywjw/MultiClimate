{
 "cells": [
  {
   "cell_type": "code",
   "execution_count": 1,
   "metadata": {},
   "outputs": [],
   "source": [
    "import pandas as pd\n",
    "import os"
   ]
  },
  {
   "cell_type": "code",
   "execution_count": 2,
   "metadata": {},
   "outputs": [],
   "source": [
    "dataset_root = 'dataset'\n",
    "test_videos = ['ACCFP', 'CCAH', 'CCSAD', 'CCUIM', 'EIB', 'EWCC', 'GGCC', 'SCCC', 'TICC', 'WICC']\n",
    "val_videos = ['CCGFS', 'CCIAP', 'CICC', 'EFCC', 'FIJI', 'HCCAB', 'HRDCC', 'HUSNS', 'MACC', 'SAPFS']\n",
    "train_videos = [\n",
    "    'ACCC', 'AIAQ', 'AIDT', 'AMCC', 'BDCC', 'BECCC', 'BWFF', 'CBAQC', 'CCBN', 'CCBNN',\n",
    "    'CCCBL', 'CCCP', 'CCCS', 'CCD', 'CCFS', 'CCFWW', 'CCH', 'CCHES', 'CCIAA', 'CCIAH', 'CCICD',\n",
    "    'CCIS', 'CCISL', 'CCMA', 'CCSC', 'CCTA', 'CCTP', 'CCWC', 'CCWQ', 'CESS', 'COP',\n",
    "    'CPCC', 'CTCM', 'DACC', 'DFCC', 'DPIC', 'DTECC', 'ECCDS', 'FCC', 'FLW', 'FTACC',\n",
    "    'HCCAE', 'HCCAW', 'HCCIG', 'HCI', 'HDWC', 'HHVBD', 'HSHWA', 'HSPW', 'IMRF', 'INCAS',\n",
    "    'MICC', 'NASA', 'OCCC', 'PCOCC', 'PWCCA', 'RAGG', 'RASCC', 'RCCCS', 'RCCS', 'RHTCC',\n",
    "    'RPDCC', 'SDDA', 'SLCCA', 'SSTCC', 'TCBCC', 'TECCC', 'TIOCC', 'TIYH', 'TTFCC',\n",
    "    'TUCC', 'UKCC', 'VFVCC', 'VPCC', 'WCCA', 'WFHSW', 'WICCE', 'WISE', 'WTCC', 'YPTL'\n",
    "]"
   ]
  },
  {
   "cell_type": "code",
   "execution_count": 3,
   "metadata": {},
   "outputs": [],
   "source": [
    "def count_labels(videos, dataset_root):\n",
    "    total_labels = 0\n",
    "    label_counts = {0: 0, 1: 0, 2: 0}\n",
    "    \n",
    "    for video in videos:\n",
    "        csv_path = os.path.join(dataset_root, video, f\"{video}.csv\")\n",
    "        if os.path.exists(csv_path):\n",
    "            data = pd.read_csv(csv_path, header=None, skiprows=1, names=['label', 'text'])\n",
    "            label_counts[0] += (data['label'] == 0).sum()\n",
    "            label_counts[1] += (data['label'] == 1).sum()\n",
    "            label_counts[2] += (data['label'] == 2).sum()\n",
    "            total_labels += len(data)\n",
    "        else:\n",
    "            print(f\"CSV file for {video} not found.\")\n",
    "    \n",
    "    return total_labels, label_counts\n",
    "\n",
    "test_total_labels, test_label_counts = count_labels(test_videos, dataset_root)\n",
    "val_total_labels, val_label_counts = count_labels(val_videos, dataset_root)\n",
    "train_total_labels, train_label_counts = count_labels(train_videos, dataset_root)"
   ]
  },
  {
   "cell_type": "code",
   "execution_count": 4,
   "metadata": {},
   "outputs": [
    {
     "name": "stdout",
     "output_type": "stream",
     "text": [
      "Test Videos:\n",
      "Total Labels: 420\n",
      "Label 0: 73, Label 1: 194, Label 2: 153\n",
      "\n",
      "Validation Videos:\n",
      "Total Labels: 417\n",
      "Label 0: 83, Label 1: 204, Label 2: 130\n",
      "\n",
      "Training Videos:\n",
      "Total Labels: 3372\n",
      "Label 0: 1036, Label 1: 1449, Label 2: 887\n",
      "\n"
     ]
    }
   ],
   "source": [
    "print(\"Test Videos:\")\n",
    "print(f\"Total Labels: {test_total_labels}\")\n",
    "print(f\"Label 0: {test_label_counts[0]}, Label 1: {test_label_counts[1]}, Label 2: {test_label_counts[2]}\\n\")\n",
    "\n",
    "print(\"Validation Videos:\")\n",
    "print(f\"Total Labels: {val_total_labels}\")\n",
    "print(f\"Label 0: {val_label_counts[0]}, Label 1: {val_label_counts[1]}, Label 2: {val_label_counts[2]}\\n\")\n",
    "\n",
    "print(\"Training Videos:\")\n",
    "print(f\"Total Labels: {train_total_labels}\")\n",
    "print(f\"Label 0: {train_label_counts[0]}, Label 1: {train_label_counts[1]}, Label 2: {train_label_counts[2]}\\n\")"
   ]
  },
  {
   "cell_type": "code",
   "execution_count": 7,
   "metadata": {},
   "outputs": [
    {
     "name": "stdout",
     "output_type": "stream",
     "text": [
      "Total 0: 1192\n",
      "Total 1: 1847\n",
      "Total 2: 1170\n",
      "Total: 4209\n"
     ]
    }
   ],
   "source": [
    "print(f\"Total 0: {test_label_counts[0] + val_label_counts[0] + train_label_counts[0]}\")\n",
    "print(f\"Total 1: {test_label_counts[1] + val_label_counts[1] + train_label_counts[1]}\")\n",
    "print(f\"Total 2: {test_label_counts[2] + val_label_counts[2] + train_label_counts[2]}\")\n",
    "print(f\"Total: {test_total_labels + val_total_labels + train_total_labels}\")"
   ]
  },
  {
   "cell_type": "code",
   "execution_count": null,
   "metadata": {},
   "outputs": [],
   "source": []
  }
 ],
 "metadata": {
  "kernelspec": {
   "display_name": "Python 3",
   "language": "python",
   "name": "python3"
  },
  "language_info": {
   "codemirror_mode": {
    "name": "ipython",
    "version": 3
   },
   "file_extension": ".py",
   "mimetype": "text/x-python",
   "name": "python",
   "nbconvert_exporter": "python",
   "pygments_lexer": "ipython3",
   "version": "3.9.6"
  }
 },
 "nbformat": 4,
 "nbformat_minor": 2
}
