{
 "cells": [
  {
   "cell_type": "code",
   "execution_count": 3,
   "metadata": {},
   "outputs": [
    {
     "name": "stderr",
     "output_type": "stream",
     "text": [
      "/Users/wery/Library/Python/3.9/lib/python/site-packages/urllib3/__init__.py:35: NotOpenSSLWarning: urllib3 v2 only supports OpenSSL 1.1.1+, currently the 'ssl' module is compiled with 'LibreSSL 2.8.3'. See: https://github.com/urllib3/urllib3/issues/3020\n",
      "  warnings.warn(\n"
     ]
    }
   ],
   "source": [
    "from youtube_transcript_api import YouTubeTranscriptApi\n",
    "import pandas as pd\n",
    "import yt_dlp\n",
    "import os"
   ]
  },
  {
   "cell_type": "markdown",
   "metadata": {},
   "source": [
    "## Script to transcript.csv"
   ]
  },
  {
   "cell_type": "code",
   "execution_count": 4,
   "metadata": {},
   "outputs": [],
   "source": [
    "# https://www.youtube.com/watch?v=CGoNpwN0mrs&t=12s\n",
    "# id is the string after the \"v=\"\n",
    "video_id = \"Ry-ei9Bu8UI\" # change here\n",
    "new_filename = \"test\" # Change here\n"
   ]
  },
  {
   "cell_type": "code",
   "execution_count": 5,
   "metadata": {},
   "outputs": [],
   "source": [
    "def split_transcript(video_id, interval=5):\n",
    "    transcript = YouTubeTranscriptApi.get_transcript(video_id, languages=['en'])\n",
    "    segments = []\n",
    "    current_segment = \"\"\n",
    "    current_time = 0\n",
    "    next_time = interval\n",
    "    \n",
    "    for entry in transcript:\n",
    "        start = entry['start']\n",
    "        text = entry['text']\n",
    "        if start >= next_time:\n",
    "            segments.append({'time': current_time, 'text': current_segment})\n",
    "            current_time = next_time\n",
    "            next_time += interval\n",
    "            current_segment = \"\"\n",
    "        \n",
    "        current_segment += \" \" + text\n",
    "    \n",
    "    segments.append({'time': current_time, 'text': current_segment.strip()})\n",
    "    return segments\n",
    "\n",
    "segments = split_transcript(video_id)"
   ]
  },
  {
   "cell_type": "code",
   "execution_count": 6,
   "metadata": {},
   "outputs": [],
   "source": [
    "filename = f\"dataset/{new_filename}/{new_filename}.csv\"\n",
    "def export_to_csv(segments, filename): \n",
    "    os.makedirs(os.path.dirname(filename), exist_ok=True)\n",
    "    df = pd.DataFrame(segments)\n",
    "    df.to_csv(filename, index=False)\n",
    "\n",
    "export_to_csv(segments, filename)"
   ]
  },
  {
   "cell_type": "markdown",
   "metadata": {},
   "source": [
    "## Script to download the youtube video"
   ]
  },
  {
   "cell_type": "code",
   "execution_count": 70,
   "metadata": {},
   "outputs": [
    {
     "name": "stdout",
     "output_type": "stream",
     "text": [
      "[youtube] Extracting URL: https://www.youtube.com/watch?v=ko4cUnzoPic\n",
      "[youtube] ko4cUnzoPic: Downloading webpage\n",
      "[youtube] ko4cUnzoPic: Downloading ios player API JSON\n",
      "[youtube] ko4cUnzoPic: Downloading m3u8 information\n",
      "[info] ko4cUnzoPic: Downloading 1 format(s): 137+140\n",
      "[download] Destination: dataset/MICC/MICC.f137.mp4\n",
      "[download] 100% of   58.81MiB in 00:00:06 at 8.77MiB/s     \n",
      "[download] Destination: dataset/MICC/MICC.f140.m4a\n",
      "[download] 100% of    4.03MiB in 00:00:00 at 6.07MiB/s   \n",
      "[Merger] Merging formats into \"dataset/MICC/MICC.mp4\"\n",
      "Deleting original file dataset/MICC/MICC.f140.m4a (pass -k to keep)\n",
      "Deleting original file dataset/MICC/MICC.f137.mp4 (pass -k to keep)\n",
      "Video downloaded to: None\n"
     ]
    }
   ],
   "source": [
    "def download_youtube_video(url, output_path, new_filename):\n",
    "    ydl_opts = {\n",
    "        'format': 'bestvideo+bestaudio/best',\n",
    "        'outtmpl': os.path.join(output_path, new_filename + '.%(ext)s'),\n",
    "        'merge_output_format': 'mp4'\n",
    "    }\n",
    "\n",
    "    with yt_dlp.YoutubeDL(ydl_opts) as ydl:\n",
    "        ydl.download([url])\n",
    "\n",
    "url = f\"https://www.youtube.com/watch?v={video_id}\"\n",
    "output_path = f\"dataset/{new_filename}/\"\n",
    "\n",
    "os.makedirs(output_path, exist_ok=True)\n",
    "\n",
    "video_filename = download_youtube_video(url, output_path, new_filename)\n",
    "print(f\"Video downloaded to: {video_filename}\")"
   ]
  },
  {
   "cell_type": "markdown",
   "metadata": {},
   "source": [
    "## Extract frames in Python and save in folder"
   ]
  },
  {
   "cell_type": "code",
   "execution_count": 71,
   "metadata": {},
   "outputs": [],
   "source": [
    "import subprocess\n",
    "\n",
    "input_video = f\"dataset/{new_filename}/{new_filename}.mp4\"\n",
    "output_parent_folder = f\"dataset/{new_filename}\"\n",
    "output_folder = os.path.join(output_parent_folder, f\"{new_filename}_frames\")\n",
    "\n",
    "os.makedirs(output_folder, exist_ok=True)\n",
    "\n",
    "ffmpeg_command = [\n",
    "    \"ffmpeg\",\n",
    "    \"-i\", input_video,\n",
    "    \"-r\", \"0.2\",\n",
    "    \"-start_number\", \"0\",\n",
    "    os.path.join(output_folder, f\"{new_filename}-%03d.jpg\")\n",
    "]\n",
    "\n",
    "subprocess.run(ffmpeg_command, capture_output=True, text=True)\n",
    "\n",
    "frame_to_delete = os.path.join(output_folder, f\"{new_filename}-000.jpg\")\n",
    "os.remove(frame_to_delete)"
   ]
  },
  {
   "cell_type": "code",
   "execution_count": null,
   "metadata": {},
   "outputs": [],
   "source": []
  }
 ],
 "metadata": {
  "kernelspec": {
   "display_name": "Python 3",
   "language": "python",
   "name": "python3"
  },
  "language_info": {
   "codemirror_mode": {
    "name": "ipython",
    "version": 3
   },
   "file_extension": ".py",
   "mimetype": "text/x-python",
   "name": "python",
   "nbconvert_exporter": "python",
   "pygments_lexer": "ipython3",
   "version": "3.9.6"
  }
 },
 "nbformat": 4,
 "nbformat_minor": 2
}
