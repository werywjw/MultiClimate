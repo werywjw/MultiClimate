{
 "cells": [
  {
   "cell_type": "code",
   "execution_count": 1,
   "metadata": {},
   "outputs": [],
   "source": [
    "from sklearn.metrics import cohen_kappa_score, accuracy_score, f1_score\n",
    "import pandas as pd"
   ]
  },
  {
   "cell_type": "markdown",
   "metadata": {},
   "source": [
    "## In the same file"
   ]
  },
  {
   "cell_type": "code",
   "execution_count": 5,
   "metadata": {},
   "outputs": [
    {
     "name": "stdout",
     "output_type": "stream",
     "text": [
      "Cohen's Kappa: 0.6978\n"
     ]
    }
   ],
   "source": [
    "# Individually Cohen's Kappa\n",
    "\n",
    "file_path = '../dataset/ACCFP/ACCFP.csv'\n",
    "data = pd.read_csv(file_path)\n",
    "zuo = data.iloc[:, 0]\n",
    "jiawen = data.iloc[:, 1]\n",
    "kappa = cohen_kappa_score(zuo, jiawen)\n",
    "print(f\"Cohen's Kappa: {kappa:.4f}\")"
   ]
  },
  {
   "cell_type": "code",
   "execution_count": 2,
   "metadata": {},
   "outputs": [
    {
     "name": "stdout",
     "output_type": "stream",
     "text": [
      "The average Cohen's kappa score is: 0.7025\n",
      "[0.697841726618705, 0.7777777777777778, 0.40802675585284287, 0.6328233657858137, 0.6474045053868756, 0.690308988764045, 0.7361894024802706, 0.7243243243243243, 0.871900826446281, 0.8381294964028777]\n"
     ]
    }
   ],
   "source": [
    "# Average 10 Cohen's Kappa\n",
    "\n",
    "ten_videos = ['ACCFP', 'CCAH', 'CCSAD', 'CCUIM', 'EIB', 'EWCC', 'GGCC', 'SCCC', 'TICC', 'WICC']\n",
    "\n",
    "def compute_kappa(file_path):\n",
    "    data = pd.read_csv(file_path)\n",
    "    zuo = data.iloc[:, 0]\n",
    "    jiawen = data.iloc[:, 1]\n",
    "    return cohen_kappa_score(zuo, jiawen)\n",
    "\n",
    "kappa_scores = []\n",
    "for video in ten_videos:\n",
    "    file_path = f'../dataset/{video}/{video}.csv'\n",
    "    kappa = compute_kappa(file_path)\n",
    "    kappa_scores.append(kappa)\n",
    "\n",
    "average_kappa = sum(kappa_scores) / len(kappa_scores)\n",
    "print(f'The average Cohen\\'s kappa score is: {average_kappa:.4f}')\n",
    "print(kappa_scores)"
   ]
  },
  {
   "cell_type": "markdown",
   "metadata": {},
   "source": [
    "## Accuracy"
   ]
  },
  {
   "cell_type": "code",
   "execution_count": 7,
   "metadata": {},
   "outputs": [
    {
     "name": "stdout",
     "output_type": "stream",
     "text": [
      "The average accuracy score is: 0.8263\n",
      "[0.8571428571428571, 0.8666666666666667, 0.6440677966101694, 0.7708333333333334, 0.8222222222222222, 0.8163265306122449, 0.8269230769230769, 0.8235294117647058, 0.9354838709677419, 0.9]\n"
     ]
    }
   ],
   "source": [
    "def compute_acc(file_path):\n",
    "    data = pd.read_csv(file_path)\n",
    "    zuo = data.iloc[:, 0]\n",
    "    jiawen = data.iloc[:, 1]\n",
    "    return accuracy_score(zuo, jiawen)\n",
    "\n",
    "acc_scores = []\n",
    "for video in ten_videos:\n",
    "    file_path = f'../dataset/{video}/{video}.csv'\n",
    "    acc = compute_acc(file_path)\n",
    "    acc_scores.append(acc)\n",
    "\n",
    "average_acc = sum(acc_scores) / len(acc_scores)\n",
    "print(f'The average accuracy score is: {average_acc:.4f}')\n",
    "print(acc_scores)"
   ]
  },
  {
   "cell_type": "markdown",
   "metadata": {},
   "source": [
    "## F1"
   ]
  },
  {
   "cell_type": "code",
   "execution_count": 5,
   "metadata": {},
   "outputs": [
    {
     "name": "stdout",
     "output_type": "stream",
     "text": [
      "The average f1 score is: 0.8231\n",
      "[0.8731762065095398, 0.8512380952380952, 0.675163945591469, 0.7734111952861954, 0.8087414110943523, 0.8112544634712123, 0.8135143288084463, 0.8060121107266437, 0.929053440658476, 0.8898550724637683]\n"
     ]
    }
   ],
   "source": [
    "def compute_f1(file_path):\n",
    "    data = pd.read_csv(file_path)\n",
    "    zuo = data.iloc[:, 0]\n",
    "    jiawen = data.iloc[:, 1]\n",
    "    return f1_score(zuo, jiawen, average='weighted')\n",
    "\n",
    "f1_scores = []\n",
    "for video in ten_videos:\n",
    "    file_path = f'../dataset/{video}/{video}.csv'\n",
    "    f1 = compute_f1(file_path)\n",
    "    f1_scores.append(f1)\n",
    "\n",
    "average_f1 = sum(f1_scores) / len(f1_scores)\n",
    "print(f'The average f1 score is: {average_f1:.4f}')\n",
    "print(f1_scores)"
   ]
  },
  {
   "cell_type": "markdown",
   "metadata": {},
   "source": [
    "## In different files"
   ]
  },
  {
   "cell_type": "code",
   "execution_count": 40,
   "metadata": {},
   "outputs": [],
   "source": [
    "# d1 = pd.read_csv('dataset/EWCC/EWCC.csv')\n",
    "# d2 = pd.read_csv('dataset/EWCC/EWCC_zuo.csv')\n",
    "# jiawen = d1.iloc[:, 0]\n",
    "# zuo = d2.iloc[:, 1]"
   ]
  },
  {
   "cell_type": "code",
   "execution_count": null,
   "metadata": {},
   "outputs": [],
   "source": []
  }
 ],
 "metadata": {
  "kernelspec": {
   "display_name": "Python 3",
   "language": "python",
   "name": "python3"
  },
  "language_info": {
   "codemirror_mode": {
    "name": "ipython",
    "version": 3
   },
   "file_extension": ".py",
   "mimetype": "text/x-python",
   "name": "python",
   "nbconvert_exporter": "python",
   "pygments_lexer": "ipython3",
   "version": "3.9.6"
  }
 },
 "nbformat": 4,
 "nbformat_minor": 2
}
