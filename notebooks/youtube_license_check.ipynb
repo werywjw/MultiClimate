{
 "cells": [
  {
   "cell_type": "code",
   "execution_count": 25,
   "metadata": {},
   "outputs": [
    {
     "name": "stdout",
     "output_type": "stream",
     "text": [
      "许可信息已成功添加并保存到新的Excel文件。\n"
     ]
    }
   ],
   "source": [
    "import pandas as pd\n",
    "from googleapiclient.discovery import build\n",
    "\n",
    "file_path = 'Climate_change_videos_data.xlsx' \n",
    "df = pd.read_excel(file_path)\n",
    "\n",
    "df['Link'] = df['Link'].astype(str)\n",
    "\n",
    "video_links = df['Link']\n",
    "\n",
    "# get video ID\n",
    "def get_video_id(url):\n",
    "    if \"youtube.com\" in url:\n",
    "        return url.split('v=')[-1]\n",
    "    elif \"youtu.be\" in url:\n",
    "        return url.split('/')[-1]\n",
    "    return None\n",
    "\n",
    "api_key = 'YOUTUBE_API'  # 请替换为你的实际API密钥\n",
    "youtube = build('youtube', 'v3', developerKey=api_key)\n",
    "\n",
    "# get license\n",
    "def get_video_licenses(video_ids):\n",
    "    licenses = {}\n",
    "    response = youtube.videos().list(\n",
    "        part='status',\n",
    "        id=','.join(video_ids)\n",
    "    ).execute()\n",
    "\n",
    "    for item in response['items']:\n",
    "        video_id = item['id']\n",
    "        license_type = item['status']['license']\n",
    "        licenses[video_id] = license_type\n",
    "    return licenses\n",
    "\n",
    "video_ids = [get_video_id(url) for url in video_links if get_video_id(url)]\n",
    "\n",
    "all_licenses = get_video_licenses(video_ids)\n",
    "\n",
    "# add a column in original file\n",
    "df['License'] = df['Link'].apply(lambda x: all_licenses.get(get_video_id(x), 'Unknown'))\n",
    "\n",
    "df_first_20 = df[:20]\n",
    "\n",
    "output_file_path = 'with_license.xlsx' \n",
    "df.to_excel(output_file_path, index=False)\n",
    "\n",
    "print(\"许可信息已成功添加并保存到新的Excel文件。\")\n"
   ]
  },
  {
   "cell_type": "code",
   "execution_count": null,
   "metadata": {},
   "outputs": [],
   "source": []
  }
 ],
 "metadata": {
  "kernelspec": {
   "display_name": "Python 3",
   "language": "python",
   "name": "python3"
  },
  "language_info": {
   "codemirror_mode": {
    "name": "ipython",
    "version": 3
   },
   "file_extension": ".py",
   "mimetype": "text/x-python",
   "name": "python",
   "nbconvert_exporter": "python",
   "pygments_lexer": "ipython3",
   "version": "3.9.6"
  }
 },
 "nbformat": 4,
 "nbformat_minor": 2
}
