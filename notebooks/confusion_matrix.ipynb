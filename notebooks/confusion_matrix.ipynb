{
 "cells": [
  {
   "cell_type": "code",
   "execution_count": 10,
   "metadata": {},
   "outputs": [],
   "source": [
    "import pandas as pd\n",
    "from sklearn.metrics import confusion_matrix\n",
    "import seaborn as sns\n",
    "import matplotlib.pyplot as plt\n",
    "import numpy as np\n",
    "\n",
    "df = pd.read_csv('results/IDEFICS_finetune_predict_test.csv')"
   ]
  },
  {
   "cell_type": "code",
   "execution_count": 58,
   "metadata": {},
   "outputs": [],
   "source": [
    "cm = confusion_matrix( df['TRUE'], df['after'])\n",
    "order = [1, 0, 2] \n",
    "cm = cm[order, :] \n",
    "cm = cm[:, order]  \n",
    "\n",
    "row_sums = cm.sum(axis=1, keepdims=True) + 1e-10\n",
    "cm_normalized = (cm.astype('float') / row_sums) * 100\n",
    "cm_normalized = np.round(cm_normalized, decimals=2)"
   ]
  },
  {
   "cell_type": "code",
   "execution_count": 59,
   "metadata": {},
   "outputs": [],
   "source": [
    "labels = ['Sup', 'Neu', 'Opp']"
   ]
  },
  {
   "cell_type": "code",
   "execution_count": 61,
   "metadata": {},
   "outputs": [],
   "source": [
    "plt.rcParams.update({'font.size': 22})  \n",
    "\n",
    "plt.figure(figsize=(10, 8))\n",
    "ax = sns.heatmap(cm_normalized, annot=True, fmt=\".2f\", cmap=\"Blues\", \n",
    "                 cbar_kws={'label': 'Percentage'}, annot_kws={'size':22},\n",
    "                 xticklabels=labels, yticklabels=labels) \n",
    "\n",
    "plt.ylabel('Gold label', fontsize=22, labelpad=16)\n",
    "plt.xlabel('Predicted label', fontsize=22, labelpad=16)\n",
    "\n",
    "plt.savefig('confusion_matrix_af.pdf')\n",
    "plt.close()"
   ]
  },
  {
   "cell_type": "code",
   "execution_count": null,
   "metadata": {},
   "outputs": [],
   "source": []
  }
 ],
 "metadata": {
  "kernelspec": {
   "display_name": "multiclimate",
   "language": "python",
   "name": "python3"
  },
  "language_info": {
   "codemirror_mode": {
    "name": "ipython",
    "version": 3
   },
   "file_extension": ".py",
   "mimetype": "text/x-python",
   "name": "python",
   "nbconvert_exporter": "python",
   "pygments_lexer": "ipython3",
   "version": "3.11.9"
  }
 },
 "nbformat": 4,
 "nbformat_minor": 2
}
