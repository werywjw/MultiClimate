{
 "cells": [
  {
   "cell_type": "code",
   "execution_count": 2,
   "metadata": {},
   "outputs": [
    {
     "name": "stderr",
     "output_type": "stream",
     "text": [
      "/Users/wery/Library/Python/3.9/lib/python/site-packages/urllib3/__init__.py:35: NotOpenSSLWarning: urllib3 v2 only supports OpenSSL 1.1.1+, currently the 'ssl' module is compiled with 'LibreSSL 2.8.3'. See: https://github.com/urllib3/urllib3/issues/3020\n",
      "  warnings.warn(\n"
     ]
    }
   ],
   "source": [
    "from youtube_transcript_api import YouTubeTranscriptApi"
   ]
  },
  {
   "cell_type": "code",
   "execution_count": 3,
   "metadata": {},
   "outputs": [
    {
     "name": "stdout",
     "output_type": "stream",
     "text": [
      "from the tropical coral reefs of the pacific islands to shipwrecks in the cold waters of lake euron and lake michigan noaa protects a system of national marine sanctuaries and monuments in some of america's most spectacular places these underwater parks protect natural and cultural resources that sustain livelihoods by providing recreation economic benefits and coastal protection they remind us of important ties to our history and between cultures and fill us with a sense of wonder but our world is rapidly warming and the impacts are being felt in our national marine sanctuaries and the communities they support warming waters cause coral reefs to bleach and kelp forests to collapse more acidic waters and declining dissolved oxygen levels are stressing ecosystems species are moving to new locations in response to a changing ocean rising seas and increasingly strong storms are damaging coastal habitats and historic shipwrecks in this rapidly changing environment national marine sanctuaries and other marine protected areas are more important than ever acting as refuges for biodiversity and offering nature-based solutions for flood and erosion control food security and carbon storage at florida keys national marine sanctuary scientists and managers are working with partners to restore seven iconic coral reefs using corals that are more resistant to the effects of warming acidification and disease creating reefs better adapted to future ocean conditions sanctuaries also protect and restore what we call blue carbon ecosystems like sea grasses mangroves and kelp forests that pull carbon dioxide out of the atmosphere eventually burying it in sediments where it can't contribute to warming sanctuaries are magnets for scientific research where we work to understand the effects of climate change on the food webs that support seabirds whales fish and humans sanctuaries help us understand human connections to the ocean and how changes will affect us olympic coast national marine sanctuary and others around the country engage with tribes to understand how climate change and ocean acidification may affect important food and cultural resources and develop solutions to address these challenges we're working across cultures to protect the extraordinary places we care about while learning about our integral and unending connection to the changing world around us we all rely on healthy marine ecosystems to support life on our planet together we can address the causes and impacts of climate change to ensure that our spectacular ocean and great lakes continue to thrive while supporting our economies and values and revealing their wonders for generations to come [Music]\n",
      "you\n"
     ]
    }
   ],
   "source": [
    "\n",
    "def get_full_sentences(video_id):\n",
    "    transcript = YouTubeTranscriptApi.get_transcript(video_id)\n",
    "\n",
    "    sentences = []\n",
    "    current_sentence = \"\"\n",
    "    for segment in transcript:\n",
    "        text = segment['text']\n",
    "        current_sentence += \" \" + text\n",
    "\n",
    "        if text.endswith(('.', '!', '?', '[Music]')):\n",
    "            sentences.append(current_sentence.strip())\n",
    "            current_sentence = \"\"\n",
    "\n",
    "    if current_sentence:\n",
    "        sentences.append(current_sentence.strip())\n",
    "\n",
    "    return sentences\n",
    "\n",
    "video_id = 'kjTAWBPPez0'\n",
    "full_sentences = get_full_sentences(video_id)\n",
    "for sentence in full_sentences:\n",
    "    print(sentence)"
   ]
  },
  {
   "cell_type": "code",
   "execution_count": null,
   "metadata": {},
   "outputs": [],
   "source": []
  }
 ],
 "metadata": {
  "kernelspec": {
   "display_name": "Python 3",
   "language": "python",
   "name": "python3"
  },
  "language_info": {
   "codemirror_mode": {
    "name": "ipython",
    "version": 3
   },
   "file_extension": ".py",
   "mimetype": "text/x-python",
   "name": "python",
   "nbconvert_exporter": "python",
   "pygments_lexer": "ipython3",
   "version": "3.9.6"
  }
 },
 "nbformat": 4,
 "nbformat_minor": 2
}
